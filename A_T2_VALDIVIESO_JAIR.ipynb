{
  "nbformat": 4,
  "nbformat_minor": 0,
  "metadata": {
    "colab": {
      "provenance": [],
      "authorship_tag": "ABX9TyOh5XaAumLWUUUvp4FKpSX8",
      "include_colab_link": true
    },
    "kernelspec": {
      "name": "python3",
      "display_name": "Python 3"
    },
    "language_info": {
      "name": "python"
    }
  },
  "cells": [
    {
      "cell_type": "markdown",
      "metadata": {
        "id": "view-in-github",
        "colab_type": "text"
      },
      "source": [
        "<a href=\"https://colab.research.google.com/github/JairVal/hola-mundo/blob/main/A_T2_VALDIVIESO_JAIR.ipynb\" target=\"_parent\"><img src=\"https://colab.research.google.com/assets/colab-badge.svg\" alt=\"Open In Colab\"/></a>"
      ]
    },
    {
      "cell_type": "markdown",
      "source": [
        "1. Hola Mundo: Escribe un programa que imprima \"Hola, Mundo!\" en la pantalla.\n"
      ],
      "metadata": {
        "id": "9gYrASbiqsc_"
      }
    },
    {
      "cell_type": "code",
      "source": [
        "print(\"Hola Mundo\")"
      ],
      "metadata": {
        "colab": {
          "base_uri": "https://localhost:8080/"
        },
        "id": "xqQmGPiuqwIm",
        "outputId": "9a96b702-c917-47a7-f240-f6c6744a1c86"
      },
      "execution_count": null,
      "outputs": [
        {
          "output_type": "stream",
          "name": "stdout",
          "text": [
            "Hola Mundo\n"
          ]
        }
      ]
    },
    {
      "cell_type": "markdown",
      "source": [
        "2. Suma de dos números: Escribe un programa que pida al usuario dos números y los sume.\n"
      ],
      "metadata": {
        "id": "4lB5oiv_q6se"
      }
    },
    {
      "cell_type": "code",
      "source": [
        "# Solicitar al usuario que ingrese dos números\n",
        "numero1 = int(input(\"Ingresa el primer número: \"))\n",
        "numero2 = int(input(\"Ingresa el segundo número: \"))\n",
        "\n",
        "# Sumar los dos números\n",
        "suma = numero1 + numero2\n",
        "\n",
        "# Mostrar el resultado\n",
        "print(\"La suma de\", numero1, \"y\", numero2, \"es:\", suma)"
      ],
      "metadata": {
        "colab": {
          "base_uri": "https://localhost:8080/"
        },
        "id": "zuurMu7FrrJd",
        "outputId": "4b2b89a8-7126-4361-bbee-6108a7e37ebb"
      },
      "execution_count": null,
      "outputs": [
        {
          "output_type": "stream",
          "name": "stdout",
          "text": [
            "Ingresa el primer número: 2\n",
            "Ingresa el segundo número: 3\n",
            "La suma de 2 y 3 es: 5\n"
          ]
        }
      ]
    },
    {
      "cell_type": "markdown",
      "source": [
        "3. Par o Impar: Escribe un programa que determine si un número introducido por el usuario es par o impar.\n"
      ],
      "metadata": {
        "id": "T711EtDmuZpT"
      }
    },
    {
      "cell_type": "code",
      "source": [
        "numero = int(input(\"Ingresa un número: \"))\n",
        "\n",
        "# Verificar si el número es par o impar\n",
        "if numero % 2 == 0:\n",
        "    print(numero, \"es un número par.\")\n",
        "else:\n",
        "    print(numero, \"es un número impar.\")"
      ],
      "metadata": {
        "colab": {
          "base_uri": "https://localhost:8080/"
        },
        "id": "SjdpiNCaudhM",
        "outputId": "c761dba9-a43a-4375-e482-ad821037406b"
      },
      "execution_count": null,
      "outputs": [
        {
          "output_type": "stream",
          "name": "stdout",
          "text": [
            "Ingresa un número: 2\n",
            "2 es un número par.\n"
          ]
        }
      ]
    },
    {
      "cell_type": "markdown",
      "source": [
        "4. Calculadora básica: Escribe un programa que realice operaciones básicas (suma, resta, multiplicación y división) entre dos números introducidos por el usuario.\n",
        "\n"
      ],
      "metadata": {
        "id": "M3a7YLC2usWr"
      }
    },
    {
      "cell_type": "code",
      "source": [
        "# Solicitar al usuario que ingrese dos números\n",
        "numero1 = int(input(\"Ingresa el primer número: \"))\n",
        "numero2 = int(input(\"Ingresa el segundo número: \"))\n",
        "\n",
        "# Realizar operaciones básicas\n",
        "suma = numero1 + numero2\n",
        "resta = numero1 - numero2\n",
        "multiplicacion = numero1 * numero2\n",
        "\n",
        "# Manejar la división por cero\n",
        "if numero2 != 0:\n",
        "    division = numero1 / numero2\n",
        "else:\n",
        "    division = \"No es posible dividir entre cero.\"\n",
        "\n",
        "# Mostrar resultados\n",
        "print(\"Suma:\", suma)\n",
        "print(\"Resta:\", resta)\n",
        "print(\"Multiplicación:\", multiplicacion)\n",
        "print(\"División:\", division)"
      ],
      "metadata": {
        "colab": {
          "base_uri": "https://localhost:8080/"
        },
        "id": "F17eG7louwCJ",
        "outputId": "c7257728-bc9f-480c-fd74-124e51c007be"
      },
      "execution_count": null,
      "outputs": [
        {
          "output_type": "stream",
          "name": "stdout",
          "text": [
            "Ingresa el primer número: 2\n",
            "Ingresa el segundo número: 3\n",
            "Suma: 5.0\n",
            "Resta: -1.0\n",
            "Multiplicación: 6.0\n",
            "División: 0.6666666666666666\n"
          ]
        }
      ]
    },
    {
      "cell_type": "markdown",
      "source": [
        "5. Número mayor: Escribe un programa que pida tres números al usuario y determine cuál es el mayor.\n"
      ],
      "metadata": {
        "id": "cLoICfZJvehk"
      }
    },
    {
      "cell_type": "code",
      "source": [
        "numero1 = int(input(\"Ingresa un numero\"))\n",
        "numero2 = int(input(\"Ingresa un numero\"))\n",
        "numero3 = int(input(\"Ingresa un numero\"))\n",
        "\n",
        "if numero1 >= numero2 and numero1 >= numero3:\n",
        "    mayor = numero1\n",
        "elif numero2 >= numero1 and numero2 >= numero3:\n",
        "    mayor = numero2\n",
        "else:\n",
        "    mayor = numero3\n",
        "\n",
        "# Mostrar el resultado\n",
        "print(\"El número mayor es:\", mayor)\n"
      ],
      "metadata": {
        "colab": {
          "base_uri": "https://localhost:8080/"
        },
        "id": "sK3y23o5vi5D",
        "outputId": "4d9034b3-a8e5-4b07-cfba-96587cca205f"
      },
      "execution_count": null,
      "outputs": [
        {
          "output_type": "stream",
          "name": "stdout",
          "text": [
            "Ingresa un numero1\n",
            "Ingresa un numero3\n",
            "Ingresa un numero4\n",
            "El número mayor es: 4\n"
          ]
        }
      ]
    },
    {
      "cell_type": "markdown",
      "source": [
        "6. Cálculo del área de un círculo: Escribe un programa que calcule el área de un círculo a partir de su radio, ingresado por el usuario.\n"
      ],
      "metadata": {
        "id": "ArgOD_gTwbwU"
      }
    },
    {
      "cell_type": "code",
      "source": [
        "radio = int(input(\"Ingresa el radio del círculo: \"))\n",
        "\n",
        "# Calcular el área del círculo usando la fórmula: área = π * radio^2\n",
        "# Usamos una aproximación de π como 3.14159\n",
        "area = 3.14159 * radio ** 2\n",
        "\n",
        "# Mostrar el resultado\n",
        "print(\"El área del círculo con radio\", radio, \"es:\", area)"
      ],
      "metadata": {
        "colab": {
          "base_uri": "https://localhost:8080/"
        },
        "id": "n_fCkZJiwgei",
        "outputId": "bf1f2417-7d32-40ee-aaa8-1f7b65e88ae8"
      },
      "execution_count": null,
      "outputs": [
        {
          "output_type": "stream",
          "name": "stdout",
          "text": [
            "Ingresa el radio del círculo: 12\n",
            "El área del círculo con radio 12.0 es: 452.38896\n"
          ]
        }
      ]
    },
    {
      "cell_type": "markdown",
      "source": [
        "7. Conversión de grados Celsius a Fahrenheit: Escribe un programa que convierta una temperatura dada en grados Celsius a grados Fahrenheit.\n"
      ],
      "metadata": {
        "id": "RBI4m9NHwtfS"
      }
    },
    {
      "cell_type": "code",
      "source": [
        "celsius = int(input(\"Ingresa la temperatura en grados Celsius: \"))\n",
        "\n",
        "# Calcular la temperatura en grados Fahrenheit\n",
        "fahrenheit = (celsius * 9/5) + 32\n",
        "\n",
        "# Mostrar el resultado\n",
        "print(\"La temperatura en grados Fahrenheit es:\", fahrenheit)"
      ],
      "metadata": {
        "colab": {
          "base_uri": "https://localhost:8080/"
        },
        "id": "LLFSNCXJwxFC",
        "outputId": "6738b9a7-e882-4e7a-f6bc-01d05e41ce35"
      },
      "execution_count": null,
      "outputs": [
        {
          "output_type": "stream",
          "name": "stdout",
          "text": [
            "Ingresa la temperatura en grados Celsius: 45\n",
            "La temperatura en grados Fahrenheit es: 113.0\n"
          ]
        }
      ]
    },
    {
      "cell_type": "markdown",
      "source": [
        "8. Cuenta atrás: Escribe un programa que cuente hacia atrás desde 10 hasta 0.\n"
      ],
      "metadata": {
        "id": "EUXyNHfPxCZR"
      }
    },
    {
      "cell_type": "code",
      "source": [
        "for numero in range(10, -1, -1):\n",
        "    print(numero)\n",
        "\n",
        "print(\"¡Despegue!\")"
      ],
      "metadata": {
        "colab": {
          "base_uri": "https://localhost:8080/"
        },
        "id": "-qDUp1i2xHQp",
        "outputId": "e3e4c3d8-6bfa-43e2-b977-63459390c1d6"
      },
      "execution_count": null,
      "outputs": [
        {
          "output_type": "stream",
          "name": "stdout",
          "text": [
            "10\n",
            "9\n",
            "8\n",
            "7\n",
            "6\n",
            "5\n",
            "4\n",
            "3\n",
            "2\n",
            "1\n",
            "0\n",
            "¡Despegue!\n"
          ]
        }
      ]
    },
    {
      "cell_type": "markdown",
      "source": [
        "9. Tabla de multiplicar: Escribe un programa que muestre la tabla de multiplicar de un número introducido por el usuario.\n"
      ],
      "metadata": {
        "id": "-TUM28tk0gAH"
      }
    },
    {
      "cell_type": "code",
      "source": [
        "numero = int(input(\"Ingresa un número para ver su tabla de multiplicar: \"))\n",
        "\n",
        "# Imprimir la tabla de multiplicar del número ingresado\n",
        "print(f\"Tabla de multiplicar del {numero}:\")\n",
        "for i in range(1, 11):\n",
        "    resultado = numero * i\n",
        "    print(f\"{numero} x {i} = {resultado}\")"
      ],
      "metadata": {
        "colab": {
          "base_uri": "https://localhost:8080/"
        },
        "id": "37JLEh8c2mmM",
        "outputId": "d79f25b4-53fd-46be-9a43-ff5c7aab5e46"
      },
      "execution_count": null,
      "outputs": [
        {
          "output_type": "stream",
          "name": "stdout",
          "text": [
            "Ingresa un número para ver su tabla de multiplicar: 2\n",
            "Tabla de multiplicar del 2:\n",
            "2 x 1 = 2\n",
            "2 x 2 = 4\n",
            "2 x 3 = 6\n",
            "2 x 4 = 8\n",
            "2 x 5 = 10\n",
            "2 x 6 = 12\n",
            "2 x 7 = 14\n",
            "2 x 8 = 16\n",
            "2 x 9 = 18\n",
            "2 x 10 = 20\n"
          ]
        }
      ]
    },
    {
      "cell_type": "markdown",
      "source": [
        "10. primos: Escribe un programa que determine si un número introducido por el usuario es primo.\n"
      ],
      "metadata": {
        "id": "oUzZGdLW3Qjt"
      }
    },
    {
      "cell_type": "code",
      "source": [
        "def es_primo(numero):\n",
        "    if numero <= 1:\n",
        "        return False\n",
        "    for i in range(2, int(numero ** 0.5) + 1):\n",
        "        if numero % i == 0:\n",
        "            return False\n",
        "    return True\n",
        "\n",
        "numero = int(input(\"Introduce un número entero positivo: \"))\n",
        "\n",
        "if es_primo(numero):\n",
        "    print(numero, \"es primo.\")\n",
        "else:\n",
        "    print(numero, \"no es primo.\")"
      ],
      "metadata": {
        "colab": {
          "base_uri": "https://localhost:8080/"
        },
        "id": "h0nNOwCj3WUm",
        "outputId": "92e7d270-f710-4a54-c480-e4593104104b"
      },
      "execution_count": null,
      "outputs": [
        {
          "output_type": "stream",
          "name": "stdout",
          "text": [
            "Introduce un número entero positivo: 1\n",
            "1 no es primo.\n"
          ]
        }
      ]
    },
    {
      "cell_type": "markdown",
      "source": [
        "11. Sumar números hasta un límite: Escribe un programa que sume todos los números naturales hasta un número límite introducido por el usuario.\n"
      ],
      "metadata": {
        "id": "kesUR3q0DUaU"
      }
    },
    {
      "cell_type": "code",
      "source": [
        "def suma_naturales(limite):\n",
        "    suma = 0\n",
        "    for i in range(1, limite + 1):\n",
        "        suma += i\n",
        "    return suma\n",
        "\n",
        "limite = int(input(\"Introduce un número límite: \"))\n",
        "\n",
        "resultado = suma_naturales(limite)\n",
        "print(\"La suma de todos los números naturales hasta\", limite, \"es:\", resultado)\n",
        "\n"
      ],
      "metadata": {
        "colab": {
          "base_uri": "https://localhost:8080/"
        },
        "id": "1imT7acQDh9c",
        "outputId": "52764a05-c7b0-4666-9ba8-b0903d4cf95d"
      },
      "execution_count": null,
      "outputs": [
        {
          "output_type": "stream",
          "name": "stdout",
          "text": [
            "Introduce un número límite: 5\n",
            "La suma de todos los números naturales hasta 5 es: 15\n"
          ]
        }
      ]
    },
    {
      "cell_type": "markdown",
      "source": [
        "12. Invertir una cadena: Escribe un programa que invierta una cadena introducida por el usuario\n",
        "\n"
      ],
      "metadata": {
        "id": "4YciNdSHE9Qc"
      }
    },
    {
      "cell_type": "code",
      "source": [
        "cadena_original = input(\"Introduce una cadena: \")\n",
        "cadena_invertida = cadena_original[::-1]\n",
        "print(\"La cadena invertida es:\", cadena_invertida)"
      ],
      "metadata": {
        "colab": {
          "base_uri": "https://localhost:8080/"
        },
        "id": "1280Fy4HFDSF",
        "outputId": "659e21e0-bec1-4d26-85a6-8c9fd32c77f8"
      },
      "execution_count": null,
      "outputs": [
        {
          "output_type": "stream",
          "name": "stdout",
          "text": [
            "Introduce una cadena: 1,3,4,5,6\n",
            "La cadena invertida es: 6,5,4,3,1\n"
          ]
        }
      ]
    },
    {
      "cell_type": "markdown",
      "source": [
        "13. Contar vocales: Escribe un programa que cuente el número de vocales en una cadena introducida por el usuario.\n"
      ],
      "metadata": {
        "id": "IA-HqdmiGd06"
      }
    },
    {
      "cell_type": "code",
      "source": [
        "# Solicitar al usuario una cadena de texto\n",
        "cadena = input(\"Ingresa una cadena de texto: \")\n",
        "\n",
        "# Inicializar contadores para vocales y consonantes\n",
        "vocales = 0\n",
        "consonantes = 0\n",
        "\n",
        "# Recorrer cada caracter en la cadena\n",
        "for caracter in cadena:\n",
        "    # Convertir el caracter a minúscula para comparar\n",
        "    caracter = caracter.lower()\n",
        "    # Verificar si es una letra\n",
        "    if caracter.isalpha():\n",
        "        # Contar vocales y consonantes\n",
        "        if caracter in \"aeiou\":\n",
        "            vocales += 1\n",
        "        else:\n",
        "            consonantes += 1\n",
        "\n",
        "# Mostrar los resultados\n",
        "print(f\"La cadena tiene {vocales} vocales y {consonantes} consonantes.\")"
      ],
      "metadata": {
        "colab": {
          "base_uri": "https://localhost:8080/"
        },
        "id": "gvXKnYlXGnuD",
        "outputId": "019a7db6-6c9a-4ed4-cf98-0595fec52d50"
      },
      "execution_count": null,
      "outputs": [
        {
          "output_type": "stream",
          "name": "stdout",
          "text": [
            "Ingresa una cadena de texto: hola\n",
            "La cadena tiene 2 vocales y 2 consonantes.\n"
          ]
        }
      ]
    },
    {
      "cell_type": "markdown",
      "source": [
        "14\n",
        ". Palíndromo: Escribe un programa que determine si una cadena introducida por el usuario es un palíndromo.\n"
      ],
      "metadata": {
        "id": "gFwCstpwH3zZ"
      }
    },
    {
      "cell_type": "code",
      "source": [
        "# Solicitar una cadena de texto al usuario\n",
        "cadena = input(\"Ingresa una cadena de texto: \")\n",
        "\n",
        "# Eliminar espacios y convertir a minúsculas\n",
        "cadena = cadena.replace(\" \", \"\").lower()\n",
        "\n",
        "# Verificar si la cadena es un palíndromo\n",
        "if cadena == cadena[::-1]:\n",
        "    print(\"La cadena es un palíndromo.\")\n",
        "else:\n",
        "    print(\"La cadena no es un palíndromo.\")"
      ],
      "metadata": {
        "colab": {
          "base_uri": "https://localhost:8080/"
        },
        "id": "6_uRCpp2Gwty",
        "outputId": "38db2dc9-74c9-4163-c62c-168e63e44b34"
      },
      "execution_count": null,
      "outputs": [
        {
          "output_type": "stream",
          "name": "stdout",
          "text": [
            "Ingresa una cadena de texto: ala\n",
            "La cadena es un palíndromo.\n"
          ]
        }
      ]
    },
    {
      "cell_type": "markdown",
      "source": [
        "15. Factorial de un número: Escribe un programa que calcule el factorial de un número introducido por el usuario.\n"
      ],
      "metadata": {
        "id": "zI9vBACFIZLR"
      }
    },
    {
      "cell_type": "code",
      "source": [
        "def factorial(numero):\n",
        "    if numero == 0:\n",
        "        return 1\n",
        "    else:\n",
        "        return numero * factorial(numero - 1)\n",
        "\n",
        "try:\n",
        "    numero = int(input(\"Ingresa un número entero positivo: \"))\n",
        "    if numero < 0:\n",
        "        print(\"El factorial no está definido para números negativos.\")\n",
        "    else:\n",
        "        resultado = factorial(numero)\n",
        "        print(f\"El factorial de {numero} es: {resultado}\")\n",
        "except ValueError:\n",
        "    print(\"Por favor, ingresa un número entero válido.\")"
      ],
      "metadata": {
        "id": "a0h3H5rhIgzZ",
        "colab": {
          "base_uri": "https://localhost:8080/"
        },
        "outputId": "e40a3d00-5122-46da-cd4e-133bf97c3892"
      },
      "execution_count": 1,
      "outputs": [
        {
          "output_type": "stream",
          "name": "stdout",
          "text": [
            "Ingresa un número entero positivo: 4\n",
            "El factorial de 4 es: 24\n"
          ]
        }
      ]
    },
    {
      "cell_type": "markdown",
      "source": [
        "16. Generar números aleatorios: Escribe un programa que genere y muestre 5 números aleatorios entre 1 y 100.\n"
      ],
      "metadata": {
        "id": "K-pCdM4ME2CQ"
      }
    },
    {
      "cell_type": "code",
      "source": [
        "def generar_numeros_aleatorios():\n",
        "    numeros_aleatorios = []\n",
        "    # Elegir un valor arbitrario como semilla\n",
        "    semilla = 987654321\n",
        "    a = 1664525\n",
        "    c = 1013904223\n",
        "    m = 2**32\n",
        "\n",
        "    for _ in range(5):\n",
        "        # Generar el siguiente número pseudoaleatorio\n",
        "        semilla = (a * semilla + c) % m\n",
        "        numero_aleatorio = semilla % 100 + 1  # Ajustar el rango a [1, 100]\n",
        "        numeros_aleatorios.append(numero_aleatorio)\n",
        "\n",
        "    return numeros_aleatorios\n",
        "\n",
        "numeros_aleatorios = generar_numeros_aleatorios()\n",
        "print(\"5 números aleatorios entre 1 y 100:\")\n",
        "print(numeros_aleatorios)"
      ],
      "metadata": {
        "colab": {
          "base_uri": "https://localhost:8080/"
        },
        "id": "u_QuHNraE8MR",
        "outputId": "7354431a-3865-4b9c-a096-ecf71cdb5761"
      },
      "execution_count": 5,
      "outputs": [
        {
          "output_type": "stream",
          "name": "stdout",
          "text": [
            "5 números aleatorios entre 1 y 100:\n",
            "[21, 28, 11, 82, 65]\n"
          ]
        }
      ]
    },
    {
      "cell_type": "markdown",
      "source": [
        "17.Calculadora de índice de masa corporal (IMC): Escribe un programa que calcule el índice de masa corporal (IMC) a partir del peso y la altura introducidos por el usuario.\n"
      ],
      "metadata": {
        "id": "1cFcE3yQFfoY"
      }
    },
    {
      "cell_type": "code",
      "source": [
        "def calcular_imc(peso, altura):\n",
        "    return peso / (altura ** 2)\n",
        "\n",
        "try:\n",
        "    peso = float(input(\"Ingresa tu peso en kilogramos: \"))\n",
        "    altura = float(input(\"Ingresa tu altura en metros: \"))\n",
        "\n",
        "    if peso <= 0 or altura <= 0:\n",
        "        print(\"El peso y la altura deben ser valores positivos.\")\n",
        "    else:\n",
        "        imc = calcular_imc(peso, altura)\n",
        "        print(\"Tu Índice de Masa Corporal (IMC) es: {:.2f}\".format(imc))\n",
        "        if imc < 18.5:\n",
        "            print(\"Tienes un peso bajo.\")\n",
        "        elif imc < 25:\n",
        "            print(\"Tienes un peso normal.\")\n",
        "        elif imc < 30:\n",
        "            print(\"Tienes sobrepeso.\")\n",
        "        else:\n",
        "            print(\"Tienes obesidad.\")\n",
        "except ValueError:\n",
        "    print(\"Por favor, ingresa valores numéricos válidos para el peso y la altura.\")"
      ],
      "metadata": {
        "colab": {
          "base_uri": "https://localhost:8080/"
        },
        "id": "s5R0xi_MF0Vn",
        "outputId": "62b74199-1206-44da-d218-1dd0e81d6ed6"
      },
      "execution_count": 6,
      "outputs": [
        {
          "output_type": "stream",
          "name": "stdout",
          "text": [
            "Ingresa tu peso en kilogramos: 155\n",
            "Ingresa tu altura en metros: 1.72\n",
            "Tu Índice de Masa Corporal (IMC) es: 52.39\n",
            "Tienes obesidad.\n"
          ]
        }
      ]
    }
  ]
}