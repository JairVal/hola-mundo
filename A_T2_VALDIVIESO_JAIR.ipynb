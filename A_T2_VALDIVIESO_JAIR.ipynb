{
  "nbformat": 4,
  "nbformat_minor": 0,
  "metadata": {
    "colab": {
      "provenance": [],
      "authorship_tag": "ABX9TyN8Q4awEwH+PyxxBXVkAPyh",
      "include_colab_link": true
    },
    "kernelspec": {
      "name": "python3",
      "display_name": "Python 3"
    },
    "language_info": {
      "name": "python"
    }
  },
  "cells": [
    {
      "cell_type": "markdown",
      "metadata": {
        "id": "view-in-github",
        "colab_type": "text"
      },
      "source": [
        "<a href=\"https://colab.research.google.com/github/JairVal/hola-mundo/blob/main/A_T2_VALDIVIESO_JAIR.ipynb\" target=\"_parent\"><img src=\"https://colab.research.google.com/assets/colab-badge.svg\" alt=\"Open In Colab\"/></a>"
      ]
    },
    {
      "cell_type": "markdown",
      "source": [
        "1. Hola Mundo: Escribe un programa que imprima \"Hola, Mundo!\" en la pantalla.\n"
      ],
      "metadata": {
        "id": "9gYrASbiqsc_"
      }
    },
    {
      "cell_type": "code",
      "source": [
        "print(\"Hola Mundo\")"
      ],
      "metadata": {
        "colab": {
          "base_uri": "https://localhost:8080/"
        },
        "id": "xqQmGPiuqwIm",
        "outputId": "9a96b702-c917-47a7-f240-f6c6744a1c86"
      },
      "execution_count": 1,
      "outputs": [
        {
          "output_type": "stream",
          "name": "stdout",
          "text": [
            "Hola Mundo\n"
          ]
        }
      ]
    },
    {
      "cell_type": "markdown",
      "source": [
        "2. Suma de dos números: Escribe un programa que pida al usuario dos números y los sume.\n"
      ],
      "metadata": {
        "id": "4lB5oiv_q6se"
      }
    },
    {
      "cell_type": "code",
      "source": [
        "# Solicitar al usuario que ingrese dos números\n",
        "numero1 = int(input(\"Ingresa el primer número: \"))\n",
        "numero2 = int(input(\"Ingresa el segundo número: \"))\n",
        "\n",
        "# Sumar los dos números\n",
        "suma = numero1 + numero2\n",
        "\n",
        "# Mostrar el resultado\n",
        "print(\"La suma de\", numero1, \"y\", numero2, \"es:\", suma)"
      ],
      "metadata": {
        "colab": {
          "base_uri": "https://localhost:8080/"
        },
        "id": "zuurMu7FrrJd",
        "outputId": "4b2b89a8-7126-4361-bbee-6108a7e37ebb"
      },
      "execution_count": 20,
      "outputs": [
        {
          "output_type": "stream",
          "name": "stdout",
          "text": [
            "Ingresa el primer número: 2\n",
            "Ingresa el segundo número: 3\n",
            "La suma de 2 y 3 es: 5\n"
          ]
        }
      ]
    },
    {
      "cell_type": "markdown",
      "source": [
        "3. Par o Impar: Escribe un programa que determine si un número introducido por el usuario es par o impar.\n"
      ],
      "metadata": {
        "id": "T711EtDmuZpT"
      }
    },
    {
      "cell_type": "code",
      "source": [
        "numero = int(input(\"Ingresa un número: \"))\n",
        "\n",
        "# Verificar si el número es par o impar\n",
        "if numero % 2 == 0:\n",
        "    print(numero, \"es un número par.\")\n",
        "else:\n",
        "    print(numero, \"es un número impar.\")"
      ],
      "metadata": {
        "colab": {
          "base_uri": "https://localhost:8080/"
        },
        "id": "SjdpiNCaudhM",
        "outputId": "c761dba9-a43a-4375-e482-ad821037406b"
      },
      "execution_count": 13,
      "outputs": [
        {
          "output_type": "stream",
          "name": "stdout",
          "text": [
            "Ingresa un número: 2\n",
            "2 es un número par.\n"
          ]
        }
      ]
    },
    {
      "cell_type": "markdown",
      "source": [
        "4. Calculadora básica: Escribe un programa que realice operaciones básicas (suma, resta, multiplicación y división) entre dos números introducidos por el usuario.\n",
        "\n"
      ],
      "metadata": {
        "id": "M3a7YLC2usWr"
      }
    },
    {
      "cell_type": "code",
      "source": [
        "# Solicitar al usuario que ingrese dos números\n",
        "numero1 = int(input(\"Ingresa el primer número: \"))\n",
        "numero2 = int(input(\"Ingresa el segundo número: \"))\n",
        "\n",
        "# Realizar operaciones básicas\n",
        "suma = numero1 + numero2\n",
        "resta = numero1 - numero2\n",
        "multiplicacion = numero1 * numero2\n",
        "\n",
        "# Manejar la división por cero\n",
        "if numero2 != 0:\n",
        "    division = numero1 / numero2\n",
        "else:\n",
        "    division = \"No es posible dividir entre cero.\"\n",
        "\n",
        "# Mostrar resultados\n",
        "print(\"Suma:\", suma)\n",
        "print(\"Resta:\", resta)\n",
        "print(\"Multiplicación:\", multiplicacion)\n",
        "print(\"División:\", division)"
      ],
      "metadata": {
        "colab": {
          "base_uri": "https://localhost:8080/"
        },
        "id": "F17eG7louwCJ",
        "outputId": "c7257728-bc9f-480c-fd74-124e51c007be"
      },
      "execution_count": 14,
      "outputs": [
        {
          "output_type": "stream",
          "name": "stdout",
          "text": [
            "Ingresa el primer número: 2\n",
            "Ingresa el segundo número: 3\n",
            "Suma: 5.0\n",
            "Resta: -1.0\n",
            "Multiplicación: 6.0\n",
            "División: 0.6666666666666666\n"
          ]
        }
      ]
    },
    {
      "cell_type": "markdown",
      "source": [
        "5. Número mayor: Escribe un programa que pida tres números al usuario y determine cuál es el mayor.\n"
      ],
      "metadata": {
        "id": "cLoICfZJvehk"
      }
    },
    {
      "cell_type": "code",
      "source": [
        "numero1 = int(input(\"Ingresa un numero\"))\n",
        "numero2 = int(input(\"Ingresa un numero\"))\n",
        "numero3 = int(input(\"Ingresa un numero\"))\n",
        "\n",
        "if numero1 >= numero2 and numero1 >= numero3:\n",
        "    mayor = numero1\n",
        "elif numero2 >= numero1 and numero2 >= numero3:\n",
        "    mayor = numero2\n",
        "else:\n",
        "    mayor = numero3\n",
        "\n",
        "# Mostrar el resultado\n",
        "print(\"El número mayor es:\", mayor)\n"
      ],
      "metadata": {
        "colab": {
          "base_uri": "https://localhost:8080/"
        },
        "id": "sK3y23o5vi5D",
        "outputId": "4d9034b3-a8e5-4b07-cfba-96587cca205f"
      },
      "execution_count": 16,
      "outputs": [
        {
          "output_type": "stream",
          "name": "stdout",
          "text": [
            "Ingresa un numero1\n",
            "Ingresa un numero3\n",
            "Ingresa un numero4\n",
            "El número mayor es: 4\n"
          ]
        }
      ]
    },
    {
      "cell_type": "markdown",
      "source": [
        "6. Cálculo del área de un círculo: Escribe un programa que calcule el área de un círculo a partir de su radio, ingresado por el usuario.\n"
      ],
      "metadata": {
        "id": "ArgOD_gTwbwU"
      }
    },
    {
      "cell_type": "code",
      "source": [
        "radio = int(input(\"Ingresa el radio del círculo: \"))\n",
        "\n",
        "# Calcular el área del círculo usando la fórmula: área = π * radio^2\n",
        "# Usamos una aproximación de π como 3.14159\n",
        "area = 3.14159 * radio ** 2\n",
        "\n",
        "# Mostrar el resultado\n",
        "print(\"El área del círculo con radio\", radio, \"es:\", area)"
      ],
      "metadata": {
        "colab": {
          "base_uri": "https://localhost:8080/"
        },
        "id": "n_fCkZJiwgei",
        "outputId": "bf1f2417-7d32-40ee-aaa8-1f7b65e88ae8"
      },
      "execution_count": 17,
      "outputs": [
        {
          "output_type": "stream",
          "name": "stdout",
          "text": [
            "Ingresa el radio del círculo: 12\n",
            "El área del círculo con radio 12.0 es: 452.38896\n"
          ]
        }
      ]
    },
    {
      "cell_type": "markdown",
      "source": [
        "7. Conversión de grados Celsius a Fahrenheit: Escribe un programa que convierta una temperatura dada en grados Celsius a grados Fahrenheit.\n"
      ],
      "metadata": {
        "id": "RBI4m9NHwtfS"
      }
    },
    {
      "cell_type": "code",
      "source": [
        "celsius = int(input(\"Ingresa la temperatura en grados Celsius: \"))\n",
        "\n",
        "# Calcular la temperatura en grados Fahrenheit\n",
        "fahrenheit = (celsius * 9/5) + 32\n",
        "\n",
        "# Mostrar el resultado\n",
        "print(\"La temperatura en grados Fahrenheit es:\", fahrenheit)"
      ],
      "metadata": {
        "colab": {
          "base_uri": "https://localhost:8080/"
        },
        "id": "LLFSNCXJwxFC",
        "outputId": "6738b9a7-e882-4e7a-f6bc-01d05e41ce35"
      },
      "execution_count": 18,
      "outputs": [
        {
          "output_type": "stream",
          "name": "stdout",
          "text": [
            "Ingresa la temperatura en grados Celsius: 45\n",
            "La temperatura en grados Fahrenheit es: 113.0\n"
          ]
        }
      ]
    },
    {
      "cell_type": "markdown",
      "source": [
        "8. Cuenta atrás: Escribe un programa que cuente hacia atrás desde 10 hasta 0.\n"
      ],
      "metadata": {
        "id": "EUXyNHfPxCZR"
      }
    },
    {
      "cell_type": "code",
      "source": [
        "for numero in range(10, -1, -1):\n",
        "    print(numero)\n",
        "\n",
        "print(\"¡Despegue!\")"
      ],
      "metadata": {
        "colab": {
          "base_uri": "https://localhost:8080/"
        },
        "id": "-qDUp1i2xHQp",
        "outputId": "e3e4c3d8-6bfa-43e2-b977-63459390c1d6"
      },
      "execution_count": 19,
      "outputs": [
        {
          "output_type": "stream",
          "name": "stdout",
          "text": [
            "10\n",
            "9\n",
            "8\n",
            "7\n",
            "6\n",
            "5\n",
            "4\n",
            "3\n",
            "2\n",
            "1\n",
            "0\n",
            "¡Despegue!\n"
          ]
        }
      ]
    },
    {
      "cell_type": "code",
      "source": [],
      "metadata": {
        "id": "WHKuFdBTyzzw"
      },
      "execution_count": null,
      "outputs": []
    }
  ]
}